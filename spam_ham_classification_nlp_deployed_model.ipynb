{
  "nbformat": 4,
  "nbformat_minor": 0,
  "metadata": {
    "colab": {
      "name": "spam ham classification nlp deployed model.ipynb",
      "provenance": []
    },
    "kernelspec": {
      "name": "python3",
      "display_name": "Python 3"
    }
  },
  "cells": [
    {
      "cell_type": "code",
      "metadata": {
        "colab": {
          "base_uri": "https://localhost:8080/"
        },
        "id": "pB6-dn1J8OHC",
        "outputId": "0f07c5f4-bdcb-4558-c247-8db33ad764d8"
      },
      "source": [
        "import pandas as pd \n",
        "import pickle\n",
        "from sklearn.feature_extraction.text import CountVectorizer\n",
        "from sklearn.naive_bayes import MultinomialNB\n",
        "from sklearn.externals import joblib"
      ],
      "execution_count": 2,
      "outputs": [
        {
          "output_type": "stream",
          "text": [
            "/usr/local/lib/python3.6/dist-packages/sklearn/externals/joblib/__init__.py:15: FutureWarning: sklearn.externals.joblib is deprecated in 0.21 and will be removed in 0.23. Please import this functionality directly from joblib, which can be installed with: pip install joblib. If this warning is raised when loading pickled models, you may need to re-serialize those models with scikit-learn 0.21+.\n",
            "  warnings.warn(msg, category=FutureWarning)\n"
          ],
          "name": "stderr"
        }
      ]
    },
    {
      "cell_type": "code",
      "metadata": {
        "id": "9rSVogJe5sPR"
      },
      "source": [
        "df= pd.read_csv(\"spam.csv\", encoding=\"latin-1\")\n",
        "df.drop(['Unnamed: 2', 'Unnamed: 3', 'Unnamed: 4'], axis=1, inplace=True)\n",
        "# Features and Labels\n",
        "df['label'] = df['class'].map({'ham': 0, 'spam': 1})\n",
        "X = df['message']\n",
        "y = df['label']\n",
        "\n",
        "# Extract Feature With CountVectorizer\n",
        "cv = CountVectorizer()\n",
        "X = cv.fit_transform(X) # Fit the Data\n",
        "  \n",
        "pickle.dump(cv, open('tranform.pkl', 'wb'))\n",
        "   \n",
        "   \n",
        "from sklearn.model_selection import train_test_split\n",
        "X_train, X_test, y_train, y_test = train_test_split(X, y, test_size=0.33, random_state=42)\n",
        "\t#Naive Bayes Classifier\n",
        "from sklearn.naive_bayes import MultinomialNB\n",
        "\n",
        "clf = MultinomialNB()\n",
        "clf.fit(X_train,y_train)\n",
        "clf.score(X_test,y_test)\n",
        "filename = 'nlp_model.pkl'\n",
        "pickle.dump(clf, open(filename, 'wb'))\n",
        "    \n",
        "#Alternative Usage of Saved Model\n",
        "joblib.dump(clf, 'NB_spam_model.pkl')\n",
        "NB_spam_model = open('NB_spam_model.pkl','rb')\n",
        "clf = joblib.load(NB_spam_model)"
      ],
      "execution_count": 4,
      "outputs": []
    },
    {
      "cell_type": "code",
      "metadata": {
        "colab": {
          "base_uri": "https://localhost:8080/"
        },
        "id": "yfsSEOMO8GxM",
        "outputId": "f6832389-0a71-4cac-8f74-24a3104853ed"
      },
      "source": [
        "#to know where the pkl file is so that we can download\n",
        "import os\n",
        "cwd = os.getcwd()\n",
        "print(cwd)"
      ],
      "execution_count": 7,
      "outputs": [
        {
          "output_type": "stream",
          "text": [
            "/content\n"
          ],
          "name": "stdout"
        }
      ]
    },
    {
      "cell_type": "markdown",
      "metadata": {
        "id": "7_JXjP0M8Jx_"
      },
      "source": [
        ""
      ]
    }
  ]
}